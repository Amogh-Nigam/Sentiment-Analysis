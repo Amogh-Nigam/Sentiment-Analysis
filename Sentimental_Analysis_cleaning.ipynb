{
 "cells": [
  {
   "cell_type": "code",
   "execution_count": 1,
   "id": "ae5a1012",
   "metadata": {},
   "outputs": [
    {
     "name": "stderr",
     "output_type": "stream",
     "text": [
      "[nltk_data] Downloading package stopwords to\n",
      "[nltk_data]     /Users/amoghnigam/nltk_data...\n",
      "[nltk_data]   Package stopwords is already up-to-date!\n",
      "[nltk_data] Downloading package wordnet to\n",
      "[nltk_data]     /Users/amoghnigam/nltk_data...\n",
      "[nltk_data]   Package wordnet is already up-to-date!\n",
      "[nltk_data] Downloading package omw-1.4 to\n",
      "[nltk_data]     /Users/amoghnigam/nltk_data...\n",
      "[nltk_data]   Package omw-1.4 is already up-to-date!\n"
     ]
    },
    {
     "data": {
      "text/plain": [
       "True"
      ]
     },
     "execution_count": 1,
     "metadata": {},
     "output_type": "execute_result"
    }
   ],
   "source": [
    "import numpy as np\n",
    "import pandas as pd\n",
    "import string\n",
    "import re\n",
    "\n",
    "# digits, len == 0 remove \n",
    "import seaborn as sns\n",
    "from wordcloud import WordCloud, STOPWORDS\n",
    "import matplotlib.pyplot as plt\n",
    "%matplotlib inline\n",
    "\n",
    "\n",
    "from sklearn.model_selection import train_test_split\n",
    "from sklearn.metrics import accuracy_score,precision_score,recall_score,f1_score,confusion_matrix,classification_report\n",
    "from sklearn.feature_extraction.text import TfidfVectorizer\n",
    "\n",
    "import contractions\n",
    "import pkg_resources\n",
    "from symspellpy import SymSpell\n",
    "# Remove accented characters\n",
    "# imports\n",
    "import unicodedata\n",
    "\n",
    "import nltk\n",
    "# from nltk.tokenize import word_tokenize\n",
    "from nltk.tokenize import TweetTokenizer\n",
    "Tokeniser = TweetTokenizer()\n",
    "from nltk.corpus import stopwords\n",
    "# from nltk.stem import PorterStemmer\n",
    "from nltk.stem import WordNetLemmatizer\n",
    "lemmatizer = WordNetLemmatizer()\n",
    "from nltk.corpus import wordnet\n",
    "nltk.download('stopwords')\n",
    "nltk.download('wordnet')\n",
    "nltk.download('omw-1.4')"
   ]
  },
  {
   "cell_type": "code",
   "execution_count": 170,
   "id": "683ed4a9",
   "metadata": {},
   "outputs": [
    {
     "data": {
      "text/html": [
       "<div>\n",
       "<style scoped>\n",
       "    .dataframe tbody tr th:only-of-type {\n",
       "        vertical-align: middle;\n",
       "    }\n",
       "\n",
       "    .dataframe tbody tr th {\n",
       "        vertical-align: top;\n",
       "    }\n",
       "\n",
       "    .dataframe thead th {\n",
       "        text-align: right;\n",
       "    }\n",
       "</style>\n",
       "<table border=\"1\" class=\"dataframe\">\n",
       "  <thead>\n",
       "    <tr style=\"text-align: right;\">\n",
       "      <th></th>\n",
       "      <th>clean_text</th>\n",
       "      <th>category</th>\n",
       "    </tr>\n",
       "  </thead>\n",
       "  <tbody>\n",
       "    <tr>\n",
       "      <th>0</th>\n",
       "      <td>when modi promised “minimum government maximum...</td>\n",
       "      <td>-1.0</td>\n",
       "    </tr>\n",
       "    <tr>\n",
       "      <th>1</th>\n",
       "      <td>talk all the nonsense and continue all the dra...</td>\n",
       "      <td>0.0</td>\n",
       "    </tr>\n",
       "    <tr>\n",
       "      <th>2</th>\n",
       "      <td>what did just say vote for modi  welcome bjp t...</td>\n",
       "      <td>1.0</td>\n",
       "    </tr>\n",
       "    <tr>\n",
       "      <th>3</th>\n",
       "      <td>asking his supporters prefix chowkidar their n...</td>\n",
       "      <td>1.0</td>\n",
       "    </tr>\n",
       "    <tr>\n",
       "      <th>4</th>\n",
       "      <td>answer who among these the most powerful world...</td>\n",
       "      <td>1.0</td>\n",
       "    </tr>\n",
       "    <tr>\n",
       "      <th>...</th>\n",
       "      <td>...</td>\n",
       "      <td>...</td>\n",
       "    </tr>\n",
       "    <tr>\n",
       "      <th>162975</th>\n",
       "      <td>why these 456 crores paid neerav modi not reco...</td>\n",
       "      <td>-1.0</td>\n",
       "    </tr>\n",
       "    <tr>\n",
       "      <th>162976</th>\n",
       "      <td>dear rss terrorist payal gawar what about modi...</td>\n",
       "      <td>-1.0</td>\n",
       "    </tr>\n",
       "    <tr>\n",
       "      <th>162977</th>\n",
       "      <td>did you cover her interaction forum where she ...</td>\n",
       "      <td>0.0</td>\n",
       "    </tr>\n",
       "    <tr>\n",
       "      <th>162978</th>\n",
       "      <td>there big project came into india modi dream p...</td>\n",
       "      <td>0.0</td>\n",
       "    </tr>\n",
       "    <tr>\n",
       "      <th>162979</th>\n",
       "      <td>have you ever listen about like gurukul where ...</td>\n",
       "      <td>1.0</td>\n",
       "    </tr>\n",
       "  </tbody>\n",
       "</table>\n",
       "<p>162980 rows × 2 columns</p>\n",
       "</div>"
      ],
      "text/plain": [
       "                                               clean_text  category\n",
       "0       when modi promised “minimum government maximum...      -1.0\n",
       "1       talk all the nonsense and continue all the dra...       0.0\n",
       "2       what did just say vote for modi  welcome bjp t...       1.0\n",
       "3       asking his supporters prefix chowkidar their n...       1.0\n",
       "4       answer who among these the most powerful world...       1.0\n",
       "...                                                   ...       ...\n",
       "162975  why these 456 crores paid neerav modi not reco...      -1.0\n",
       "162976  dear rss terrorist payal gawar what about modi...      -1.0\n",
       "162977  did you cover her interaction forum where she ...       0.0\n",
       "162978  there big project came into india modi dream p...       0.0\n",
       "162979  have you ever listen about like gurukul where ...       1.0\n",
       "\n",
       "[162980 rows x 2 columns]"
      ]
     },
     "execution_count": 170,
     "metadata": {},
     "output_type": "execute_result"
    }
   ],
   "source": [
    "# Importing the dataset\n",
    "df = pd.read_csv('./Twitter_Data.csv')\n",
    "df"
   ]
  },
  {
   "cell_type": "code",
   "execution_count": 171,
   "id": "3b7a7940",
   "metadata": {},
   "outputs": [
    {
     "name": "stdout",
     "output_type": "stream",
     "text": [
      "Rows     : 162980\n",
      "Columns  : 2\n"
     ]
    }
   ],
   "source": [
    "# 162968\n",
    "print('Rows     :',df.shape[0])\n",
    "print('Columns  :',df.shape[1])"
   ]
  },
  {
   "cell_type": "code",
   "execution_count": 5,
   "id": "7789312d",
   "metadata": {
    "collapsed": true
   },
   "outputs": [
    {
     "data": {
      "text/html": [
       "<div>\n",
       "<style scoped>\n",
       "    .dataframe tbody tr th:only-of-type {\n",
       "        vertical-align: middle;\n",
       "    }\n",
       "\n",
       "    .dataframe tbody tr th {\n",
       "        vertical-align: top;\n",
       "    }\n",
       "\n",
       "    .dataframe thead th {\n",
       "        text-align: right;\n",
       "    }\n",
       "</style>\n",
       "<table border=\"1\" class=\"dataframe\">\n",
       "  <thead>\n",
       "    <tr style=\"text-align: right;\">\n",
       "      <th></th>\n",
       "      <th>clean_text</th>\n",
       "      <th>category</th>\n",
       "    </tr>\n",
       "  </thead>\n",
       "  <tbody>\n",
       "    <tr>\n",
       "      <th>34475</th>\n",
       "      <td>the auction paintings from nirav modis collect...</td>\n",
       "      <td>0.0</td>\n",
       "    </tr>\n",
       "    <tr>\n",
       "      <th>75316</th>\n",
       "      <td>prode nation well you modi 2019 bhi apki jarur...</td>\n",
       "      <td>0.0</td>\n",
       "    </tr>\n",
       "    <tr>\n",
       "      <th>50813</th>\n",
       "      <td>goes modi one who has given for this</td>\n",
       "      <td>0.0</td>\n",
       "    </tr>\n",
       "    <tr>\n",
       "      <th>49782</th>\n",
       "      <td>how hard you all anti modi media try truth mod...</td>\n",
       "      <td>-1.0</td>\n",
       "    </tr>\n",
       "    <tr>\n",
       "      <th>84511</th>\n",
       "      <td>such announcements which has many fallouts can...</td>\n",
       "      <td>1.0</td>\n",
       "    </tr>\n",
       "    <tr>\n",
       "      <th>69496</th>\n",
       "      <td>‘need address gaps int’ space laws’\\nfor more ...</td>\n",
       "      <td>1.0</td>\n",
       "    </tr>\n",
       "    <tr>\n",
       "      <th>143352</th>\n",
       "      <td>still the end narendra modis year ruling the c...</td>\n",
       "      <td>0.0</td>\n",
       "    </tr>\n",
       "    <tr>\n",
       "      <th>114190</th>\n",
       "      <td>modi predicts easy victory two weeks before po...</td>\n",
       "      <td>1.0</td>\n",
       "    </tr>\n",
       "    <tr>\n",
       "      <th>50318</th>\n",
       "      <td>modi reveals india successfully tested antisat...</td>\n",
       "      <td>1.0</td>\n",
       "    </tr>\n",
       "    <tr>\n",
       "      <th>89459</th>\n",
       "      <td>rajdeep shamedesai see can together nothing im...</td>\n",
       "      <td>-1.0</td>\n",
       "    </tr>\n",
       "  </tbody>\n",
       "</table>\n",
       "</div>"
      ],
      "text/plain": [
       "                                               clean_text  category\n",
       "34475   the auction paintings from nirav modis collect...       0.0\n",
       "75316   prode nation well you modi 2019 bhi apki jarur...       0.0\n",
       "50813                goes modi one who has given for this       0.0\n",
       "49782   how hard you all anti modi media try truth mod...      -1.0\n",
       "84511   such announcements which has many fallouts can...       1.0\n",
       "69496   ‘need address gaps int’ space laws’\\nfor more ...       1.0\n",
       "143352  still the end narendra modis year ruling the c...       0.0\n",
       "114190  modi predicts easy victory two weeks before po...       1.0\n",
       "50318   modi reveals india successfully tested antisat...       1.0\n",
       "89459   rajdeep shamedesai see can together nothing im...      -1.0"
      ]
     },
     "execution_count": 5,
     "metadata": {},
     "output_type": "execute_result"
    }
   ],
   "source": [
    "df.sample(10)"
   ]
  },
  {
   "cell_type": "code",
   "execution_count": 6,
   "id": "24aa6c4e",
   "metadata": {},
   "outputs": [
    {
     "name": "stdout",
     "output_type": "stream",
     "text": [
      "<class 'pandas.core.frame.DataFrame'>\n",
      "RangeIndex: 162980 entries, 0 to 162979\n",
      "Data columns (total 2 columns):\n",
      " #   Column      Non-Null Count   Dtype  \n",
      "---  ------      --------------   -----  \n",
      " 0   clean_text  162976 non-null  object \n",
      " 1   category    162973 non-null  float64\n",
      "dtypes: float64(1), object(1)\n",
      "memory usage: 2.5+ MB\n"
     ]
    }
   ],
   "source": [
    "df.info()"
   ]
  },
  {
   "cell_type": "code",
   "execution_count": 6,
   "id": "40efd255",
   "metadata": {
    "collapsed": true
   },
   "outputs": [
    {
     "data": {
      "text/html": [
       "<div>\n",
       "<style scoped>\n",
       "    .dataframe tbody tr th:only-of-type {\n",
       "        vertical-align: middle;\n",
       "    }\n",
       "\n",
       "    .dataframe tbody tr th {\n",
       "        vertical-align: top;\n",
       "    }\n",
       "\n",
       "    .dataframe thead th {\n",
       "        text-align: right;\n",
       "    }\n",
       "</style>\n",
       "<table border=\"1\" class=\"dataframe\">\n",
       "  <thead>\n",
       "    <tr style=\"text-align: right;\">\n",
       "      <th></th>\n",
       "      <th>category</th>\n",
       "    </tr>\n",
       "  </thead>\n",
       "  <tbody>\n",
       "    <tr>\n",
       "      <th>count</th>\n",
       "      <td>162973.000000</td>\n",
       "    </tr>\n",
       "    <tr>\n",
       "      <th>mean</th>\n",
       "      <td>0.225436</td>\n",
       "    </tr>\n",
       "    <tr>\n",
       "      <th>std</th>\n",
       "      <td>0.781279</td>\n",
       "    </tr>\n",
       "    <tr>\n",
       "      <th>min</th>\n",
       "      <td>-1.000000</td>\n",
       "    </tr>\n",
       "    <tr>\n",
       "      <th>25%</th>\n",
       "      <td>0.000000</td>\n",
       "    </tr>\n",
       "    <tr>\n",
       "      <th>50%</th>\n",
       "      <td>0.000000</td>\n",
       "    </tr>\n",
       "    <tr>\n",
       "      <th>75%</th>\n",
       "      <td>1.000000</td>\n",
       "    </tr>\n",
       "    <tr>\n",
       "      <th>max</th>\n",
       "      <td>1.000000</td>\n",
       "    </tr>\n",
       "  </tbody>\n",
       "</table>\n",
       "</div>"
      ],
      "text/plain": [
       "            category\n",
       "count  162973.000000\n",
       "mean        0.225436\n",
       "std         0.781279\n",
       "min        -1.000000\n",
       "25%         0.000000\n",
       "50%         0.000000\n",
       "75%         1.000000\n",
       "max         1.000000"
      ]
     },
     "execution_count": 6,
     "metadata": {},
     "output_type": "execute_result"
    }
   ],
   "source": [
    "df.describe()"
   ]
  },
  {
   "cell_type": "code",
   "execution_count": 7,
   "id": "6edace38",
   "metadata": {
    "collapsed": true
   },
   "outputs": [
    {
     "data": {
      "text/plain": [
       " 1.0    72250\n",
       " 0.0    55213\n",
       "-1.0    35510\n",
       "Name: category, dtype: int64"
      ]
     },
     "execution_count": 7,
     "metadata": {},
     "output_type": "execute_result"
    }
   ],
   "source": [
    "df['category'].value_counts()"
   ]
  },
  {
   "cell_type": "code",
   "execution_count": 8,
   "id": "f072c9dd",
   "metadata": {
    "collapsed": true
   },
   "outputs": [
    {
     "data": {
      "text/plain": [
       "clean_text    4\n",
       "category      7\n",
       "dtype: int64"
      ]
     },
     "execution_count": 8,
     "metadata": {},
     "output_type": "execute_result"
    }
   ],
   "source": [
    "df.isnull().sum()"
   ]
  },
  {
   "cell_type": "code",
   "execution_count": 9,
   "id": "27454c10",
   "metadata": {
    "collapsed": true
   },
   "outputs": [
    {
     "data": {
      "text/html": [
       "<div>\n",
       "<style scoped>\n",
       "    .dataframe tbody tr th:only-of-type {\n",
       "        vertical-align: middle;\n",
       "    }\n",
       "\n",
       "    .dataframe tbody tr th {\n",
       "        vertical-align: top;\n",
       "    }\n",
       "\n",
       "    .dataframe thead th {\n",
       "        text-align: right;\n",
       "    }\n",
       "</style>\n",
       "<table border=\"1\" class=\"dataframe\">\n",
       "  <thead>\n",
       "    <tr style=\"text-align: right;\">\n",
       "      <th></th>\n",
       "      <th>clean_text</th>\n",
       "      <th>category</th>\n",
       "    </tr>\n",
       "  </thead>\n",
       "  <tbody>\n",
       "    <tr>\n",
       "      <th>130448</th>\n",
       "      <td>the foundation stone northeast gas grid inaugu...</td>\n",
       "      <td>NaN</td>\n",
       "    </tr>\n",
       "    <tr>\n",
       "      <th>155642</th>\n",
       "      <td>dear terrorists you can run but you cant hide ...</td>\n",
       "      <td>NaN</td>\n",
       "    </tr>\n",
       "    <tr>\n",
       "      <th>155698</th>\n",
       "      <td>offense the best defence with mission shakti m...</td>\n",
       "      <td>NaN</td>\n",
       "    </tr>\n",
       "    <tr>\n",
       "      <th>155770</th>\n",
       "      <td>have always heard politicians backing out thei...</td>\n",
       "      <td>NaN</td>\n",
       "    </tr>\n",
       "    <tr>\n",
       "      <th>158693</th>\n",
       "      <td>modi government plans felicitate the faceless ...</td>\n",
       "      <td>NaN</td>\n",
       "    </tr>\n",
       "    <tr>\n",
       "      <th>159442</th>\n",
       "      <td>chidambaram gives praises modinomics</td>\n",
       "      <td>NaN</td>\n",
       "    </tr>\n",
       "    <tr>\n",
       "      <th>160559</th>\n",
       "      <td>the reason why modi contested from seats 2014 ...</td>\n",
       "      <td>NaN</td>\n",
       "    </tr>\n",
       "  </tbody>\n",
       "</table>\n",
       "</div>"
      ],
      "text/plain": [
       "                                               clean_text  category\n",
       "130448  the foundation stone northeast gas grid inaugu...       NaN\n",
       "155642  dear terrorists you can run but you cant hide ...       NaN\n",
       "155698  offense the best defence with mission shakti m...       NaN\n",
       "155770  have always heard politicians backing out thei...       NaN\n",
       "158693  modi government plans felicitate the faceless ...       NaN\n",
       "159442               chidambaram gives praises modinomics       NaN\n",
       "160559  the reason why modi contested from seats 2014 ...       NaN"
      ]
     },
     "execution_count": 9,
     "metadata": {},
     "output_type": "execute_result"
    }
   ],
   "source": [
    "df[df['category'].isnull()]"
   ]
  },
  {
   "cell_type": "code",
   "execution_count": 16,
   "id": "cc3830c1",
   "metadata": {
    "collapsed": true
   },
   "outputs": [
    {
     "data": {
      "text/html": [
       "<div>\n",
       "<style scoped>\n",
       "    .dataframe tbody tr th:only-of-type {\n",
       "        vertical-align: middle;\n",
       "    }\n",
       "\n",
       "    .dataframe tbody tr th {\n",
       "        vertical-align: top;\n",
       "    }\n",
       "\n",
       "    .dataframe thead th {\n",
       "        text-align: right;\n",
       "    }\n",
       "</style>\n",
       "<table border=\"1\" class=\"dataframe\">\n",
       "  <thead>\n",
       "    <tr style=\"text-align: right;\">\n",
       "      <th></th>\n",
       "      <th>clean_text</th>\n",
       "      <th>category</th>\n",
       "    </tr>\n",
       "  </thead>\n",
       "  <tbody>\n",
       "    <tr>\n",
       "      <th>148</th>\n",
       "      <td>NaN</td>\n",
       "      <td>0.0</td>\n",
       "    </tr>\n",
       "    <tr>\n",
       "      <th>158694</th>\n",
       "      <td>NaN</td>\n",
       "      <td>-1.0</td>\n",
       "    </tr>\n",
       "    <tr>\n",
       "      <th>159443</th>\n",
       "      <td>NaN</td>\n",
       "      <td>0.0</td>\n",
       "    </tr>\n",
       "    <tr>\n",
       "      <th>160560</th>\n",
       "      <td>NaN</td>\n",
       "      <td>1.0</td>\n",
       "    </tr>\n",
       "  </tbody>\n",
       "</table>\n",
       "</div>"
      ],
      "text/plain": [
       "       clean_text  category\n",
       "148           NaN       0.0\n",
       "158694        NaN      -1.0\n",
       "159443        NaN       0.0\n",
       "160560        NaN       1.0"
      ]
     },
     "execution_count": 16,
     "metadata": {},
     "output_type": "execute_result"
    }
   ],
   "source": [
    "df[df['clean_text'].isnull()]"
   ]
  },
  {
   "cell_type": "code",
   "execution_count": 10,
   "id": "ec01f7ae",
   "metadata": {
    "collapsed": true
   },
   "outputs": [
    {
     "data": {
      "text/html": [
       "<div>\n",
       "<style scoped>\n",
       "    .dataframe tbody tr th:only-of-type {\n",
       "        vertical-align: middle;\n",
       "    }\n",
       "\n",
       "    .dataframe tbody tr th {\n",
       "        vertical-align: top;\n",
       "    }\n",
       "\n",
       "    .dataframe thead th {\n",
       "        text-align: right;\n",
       "    }\n",
       "</style>\n",
       "<table border=\"1\" class=\"dataframe\">\n",
       "  <thead>\n",
       "    <tr style=\"text-align: right;\">\n",
       "      <th></th>\n",
       "      <th>clean_text</th>\n",
       "      <th>category</th>\n",
       "    </tr>\n",
       "  </thead>\n",
       "  <tbody>\n",
       "    <tr>\n",
       "      <th>148</th>\n",
       "      <td>NaN</td>\n",
       "      <td>0.0</td>\n",
       "    </tr>\n",
       "    <tr>\n",
       "      <th>158694</th>\n",
       "      <td>NaN</td>\n",
       "      <td>-1.0</td>\n",
       "    </tr>\n",
       "    <tr>\n",
       "      <th>159443</th>\n",
       "      <td>NaN</td>\n",
       "      <td>0.0</td>\n",
       "    </tr>\n",
       "    <tr>\n",
       "      <th>160560</th>\n",
       "      <td>NaN</td>\n",
       "      <td>1.0</td>\n",
       "    </tr>\n",
       "  </tbody>\n",
       "</table>\n",
       "</div>"
      ],
      "text/plain": [
       "       clean_text  category\n",
       "148           NaN       0.0\n",
       "158694        NaN      -1.0\n",
       "159443        NaN       0.0\n",
       "160560        NaN       1.0"
      ]
     },
     "execution_count": 10,
     "metadata": {},
     "output_type": "execute_result"
    }
   ],
   "source": [
    "df[df.clean_text.duplicated(keep=False) == True]"
   ]
  },
  {
   "cell_type": "code",
   "execution_count": 13,
   "id": "80956d34",
   "metadata": {
    "collapsed": true
   },
   "outputs": [
    {
     "data": {
      "text/html": [
       "<div>\n",
       "<style scoped>\n",
       "    .dataframe tbody tr th:only-of-type {\n",
       "        vertical-align: middle;\n",
       "    }\n",
       "\n",
       "    .dataframe tbody tr th {\n",
       "        vertical-align: top;\n",
       "    }\n",
       "\n",
       "    .dataframe thead th {\n",
       "        text-align: right;\n",
       "    }\n",
       "</style>\n",
       "<table border=\"1\" class=\"dataframe\">\n",
       "  <thead>\n",
       "    <tr style=\"text-align: right;\">\n",
       "      <th></th>\n",
       "      <th>clean_text</th>\n",
       "      <th>category</th>\n",
       "    </tr>\n",
       "  </thead>\n",
       "  <tbody>\n",
       "    <tr>\n",
       "      <th>77224</th>\n",
       "      <td></td>\n",
       "      <td>0.0</td>\n",
       "    </tr>\n",
       "  </tbody>\n",
       "</table>\n",
       "</div>"
      ],
      "text/plain": [
       "      clean_text  category\n",
       "77224                  0.0"
      ]
     },
     "execution_count": 13,
     "metadata": {},
     "output_type": "execute_result"
    }
   ],
   "source": [
    "df.loc[df['clean_text'] == \" \"]"
   ]
  },
  {
   "cell_type": "code",
   "execution_count": null,
   "id": "32d21939",
   "metadata": {},
   "outputs": [],
   "source": [
    "# DROP AS VERY LESS\n",
    "# 4+7+1 = 12"
   ]
  },
  {
   "cell_type": "code",
   "execution_count": 172,
   "id": "633752f0",
   "metadata": {},
   "outputs": [],
   "source": [
    "# make a function def clean\n",
    "df.drop(df[df['clean_text'].isna()].index, inplace=True)\n",
    "df.drop(df[df['category'].isna()].index, inplace=True)\n",
    "df.drop(df[df['clean_text'] == \" \"].index, inplace = True)\n",
    "df.reset_index(inplace=True, drop=True)"
   ]
  },
  {
   "cell_type": "code",
   "execution_count": 15,
   "id": "8d65d581",
   "metadata": {
    "collapsed": true
   },
   "outputs": [
    {
     "data": {
      "text/plain": [
       " 1.0    72249\n",
       " 0.0    55210\n",
       "-1.0    35509\n",
       "Name: category, dtype: int64"
      ]
     },
     "execution_count": 15,
     "metadata": {},
     "output_type": "execute_result"
    }
   ],
   "source": [
    "df.category.value_counts()"
   ]
  },
  {
   "cell_type": "code",
   "execution_count": 173,
   "id": "4eca6ce6",
   "metadata": {},
   "outputs": [
    {
     "data": {
      "text/html": [
       "<div>\n",
       "<style scoped>\n",
       "    .dataframe tbody tr th:only-of-type {\n",
       "        vertical-align: middle;\n",
       "    }\n",
       "\n",
       "    .dataframe tbody tr th {\n",
       "        vertical-align: top;\n",
       "    }\n",
       "\n",
       "    .dataframe thead th {\n",
       "        text-align: right;\n",
       "    }\n",
       "</style>\n",
       "<table border=\"1\" class=\"dataframe\">\n",
       "  <thead>\n",
       "    <tr style=\"text-align: right;\">\n",
       "      <th></th>\n",
       "      <th>Total</th>\n",
       "      <th>Percentage</th>\n",
       "    </tr>\n",
       "  </thead>\n",
       "  <tbody>\n",
       "    <tr>\n",
       "      <th>1.0</th>\n",
       "      <td>72249</td>\n",
       "      <td>44.33</td>\n",
       "    </tr>\n",
       "    <tr>\n",
       "      <th>0.0</th>\n",
       "      <td>55210</td>\n",
       "      <td>33.88</td>\n",
       "    </tr>\n",
       "    <tr>\n",
       "      <th>-1.0</th>\n",
       "      <td>35509</td>\n",
       "      <td>21.79</td>\n",
       "    </tr>\n",
       "  </tbody>\n",
       "</table>\n",
       "</div>"
      ],
      "text/plain": [
       "      Total  Percentage\n",
       " 1.0  72249       44.33\n",
       " 0.0  55210       33.88\n",
       "-1.0  35509       21.79"
      ]
     },
     "execution_count": 173,
     "metadata": {},
     "output_type": "execute_result"
    }
   ],
   "source": [
    "total = df.category.value_counts()\n",
    "percentage=round(df.category.value_counts(normalize=True)*100,2)\n",
    "pd.concat([total,percentage],axis=1,keys=[\"Total\",\"Percentage\"])"
   ]
  },
  {
   "cell_type": "code",
   "execution_count": null,
   "id": "b6bcacd0",
   "metadata": {},
   "outputs": [],
   "source": [
    "# Insights\n",
    "\n",
    "# 1. In this data, we have more than 40% positive tweets\n",
    "# 2. Negative Tweets are with low numbers and only 50% in count compared to positive tweets\n",
    "# 3. Neutral Tweets have a good number in total between positive & negative tweet count"
   ]
  },
  {
   "cell_type": "code",
   "execution_count": 11,
   "id": "fbbd006e",
   "metadata": {
    "collapsed": true
   },
   "outputs": [
    {
     "data": {
      "image/png": "[encoded data removed]",
      "text/plain": [
       "<Figure size 720x432 with 1 Axes>"
      ]
     },
     "metadata": {},
     "output_type": "display_data"
    }
   ],
   "source": [
    "# plt.rcParams.update({\"figure.figsize\": (10, 6),\n",
    "#               \"figure.facecolor\" : \"white\"\n",
    "#              })\n",
    "plt.rcParams[\"figure.figsize\"] = (10, 6)\n",
    "plt.rcParams[\"figure.facecolor\"] = 'white'\n",
    "\n",
    "ax = df.groupby('category').count().plot(kind='bar', title='Distribution of Data',legend=False)\n",
    "ax.set_xticklabels(['Negative','Neutral','Positive'], rotation=0)\n",
    "plt.ylabel('Count')\n",
    "plt.xlabel('Types of Sentiment')\n",
    "\n",
    "plt.show()"
   ]
  },
  {
   "cell_type": "code",
   "execution_count": 12,
   "id": "49909a6b",
   "metadata": {
    "collapsed": true
   },
   "outputs": [
    {
     "data": {
      "image/png": "[encoded data removed]",
      "text/plain": [
       "<Figure size 720x432 with 1 Axes>"
      ]
     },
     "metadata": {},
     "output_type": "display_data"
    }
   ],
   "source": [
    "# fig, ax = plt.subplots()\n",
    "\n",
    "plt.pie(percentage, labels=['Positive','Neutral','Negative'], autopct='%1.1f%%', colors=['lightgreen', 'lightblue', 'red'])\n",
    "plt.axis('equal')  # Equal aspect ratio ensures the pie chart is circular.\n",
    "plt.title('Distribution of Data')\n",
    "\n",
    "plt.show()"
   ]
  },
  {
   "cell_type": "code",
   "execution_count": null,
   "id": "b707fa42",
   "metadata": {},
   "outputs": [],
   "source": [
    "# Word count"
   ]
  },
  {
   "cell_type": "code",
   "execution_count": 174,
   "id": "9540a37f",
   "metadata": {},
   "outputs": [
    {
     "data": {
      "text/html": [
       "<div>\n",
       "<style scoped>\n",
       "    .dataframe tbody tr th:only-of-type {\n",
       "        vertical-align: middle;\n",
       "    }\n",
       "\n",
       "    .dataframe tbody tr th {\n",
       "        vertical-align: top;\n",
       "    }\n",
       "\n",
       "    .dataframe thead th {\n",
       "        text-align: right;\n",
       "    }\n",
       "</style>\n",
       "<table border=\"1\" class=\"dataframe\">\n",
       "  <thead>\n",
       "    <tr style=\"text-align: right;\">\n",
       "      <th></th>\n",
       "      <th>clean_text</th>\n",
       "      <th>category</th>\n",
       "      <th>word_counts</th>\n",
       "    </tr>\n",
       "  </thead>\n",
       "  <tbody>\n",
       "    <tr>\n",
       "      <th>0</th>\n",
       "      <td>when modi promised “minimum government maximum...</td>\n",
       "      <td>-1.0</td>\n",
       "      <td>33</td>\n",
       "    </tr>\n",
       "    <tr>\n",
       "      <th>1</th>\n",
       "      <td>talk all the nonsense and continue all the dra...</td>\n",
       "      <td>0.0</td>\n",
       "      <td>13</td>\n",
       "    </tr>\n",
       "    <tr>\n",
       "      <th>2</th>\n",
       "      <td>what did just say vote for modi  welcome bjp t...</td>\n",
       "      <td>1.0</td>\n",
       "      <td>22</td>\n",
       "    </tr>\n",
       "    <tr>\n",
       "      <th>3</th>\n",
       "      <td>asking his supporters prefix chowkidar their n...</td>\n",
       "      <td>1.0</td>\n",
       "      <td>34</td>\n",
       "    </tr>\n",
       "    <tr>\n",
       "      <th>4</th>\n",
       "      <td>answer who among these the most powerful world...</td>\n",
       "      <td>1.0</td>\n",
       "      <td>14</td>\n",
       "    </tr>\n",
       "  </tbody>\n",
       "</table>\n",
       "</div>"
      ],
      "text/plain": [
       "                                          clean_text  category  word_counts\n",
       "0  when modi promised “minimum government maximum...      -1.0           33\n",
       "1  talk all the nonsense and continue all the dra...       0.0           13\n",
       "2  what did just say vote for modi  welcome bjp t...       1.0           22\n",
       "3  asking his supporters prefix chowkidar their n...       1.0           34\n",
       "4  answer who among these the most powerful world...       1.0           14"
      ]
     },
     "execution_count": 174,
     "metadata": {},
     "output_type": "execute_result"
    }
   ],
   "source": [
    "df['word_counts']=df['clean_text'].apply(lambda x: len(str(x).split()))\n",
    "df.head()"
   ]
  },
  {
   "cell_type": "code",
   "execution_count": 175,
   "id": "240b4305",
   "metadata": {},
   "outputs": [
    {
     "data": {
      "text/html": [
       "<div>\n",
       "<style scoped>\n",
       "    .dataframe tbody tr th:only-of-type {\n",
       "        vertical-align: middle;\n",
       "    }\n",
       "\n",
       "    .dataframe tbody tr th {\n",
       "        vertical-align: top;\n",
       "    }\n",
       "\n",
       "    .dataframe thead th {\n",
       "        text-align: right;\n",
       "    }\n",
       "</style>\n",
       "<table border=\"1\" class=\"dataframe\">\n",
       "  <thead>\n",
       "    <tr style=\"text-align: right;\">\n",
       "      <th></th>\n",
       "      <th>clean_text</th>\n",
       "      <th>category</th>\n",
       "      <th>word_counts</th>\n",
       "      <th>chars_count</th>\n",
       "    </tr>\n",
       "  </thead>\n",
       "  <tbody>\n",
       "    <tr>\n",
       "      <th>0</th>\n",
       "      <td>when modi promised “minimum government maximum...</td>\n",
       "      <td>-1.0</td>\n",
       "      <td>33</td>\n",
       "      <td>210</td>\n",
       "    </tr>\n",
       "    <tr>\n",
       "      <th>1</th>\n",
       "      <td>talk all the nonsense and continue all the dra...</td>\n",
       "      <td>0.0</td>\n",
       "      <td>13</td>\n",
       "      <td>68</td>\n",
       "    </tr>\n",
       "    <tr>\n",
       "      <th>2</th>\n",
       "      <td>what did just say vote for modi  welcome bjp t...</td>\n",
       "      <td>1.0</td>\n",
       "      <td>22</td>\n",
       "      <td>117</td>\n",
       "    </tr>\n",
       "    <tr>\n",
       "      <th>3</th>\n",
       "      <td>asking his supporters prefix chowkidar their n...</td>\n",
       "      <td>1.0</td>\n",
       "      <td>34</td>\n",
       "      <td>212</td>\n",
       "    </tr>\n",
       "    <tr>\n",
       "      <th>4</th>\n",
       "      <td>answer who among these the most powerful world...</td>\n",
       "      <td>1.0</td>\n",
       "      <td>14</td>\n",
       "      <td>81</td>\n",
       "    </tr>\n",
       "  </tbody>\n",
       "</table>\n",
       "</div>"
      ],
      "text/plain": [
       "                                          clean_text  category  word_counts  \\\n",
       "0  when modi promised “minimum government maximum...      -1.0           33   \n",
       "1  talk all the nonsense and continue all the dra...       0.0           13   \n",
       "2  what did just say vote for modi  welcome bjp t...       1.0           22   \n",
       "3  asking his supporters prefix chowkidar their n...       1.0           34   \n",
       "4  answer who among these the most powerful world...       1.0           14   \n",
       "\n",
       "   chars_count  \n",
       "0          210  \n",
       "1           68  \n",
       "2          117  \n",
       "3          212  \n",
       "4           81  "
      ]
     },
     "execution_count": 175,
     "metadata": {},
     "output_type": "execute_result"
    }
   ],
   "source": [
    "df['chars_count']=df['clean_text'].apply(lambda x: len(x))\n",
    "df.head()"
   ]
  },
  {
   "cell_type": "code",
   "execution_count": 36,
   "id": "c4ec7a07",
   "metadata": {
    "collapsed": true
   },
   "outputs": [
    {
     "data": {
      "text/html": [
       "<div>\n",
       "<style scoped>\n",
       "    .dataframe tbody tr th:only-of-type {\n",
       "        vertical-align: middle;\n",
       "    }\n",
       "\n",
       "    .dataframe tbody tr th {\n",
       "        vertical-align: top;\n",
       "    }\n",
       "\n",
       "    .dataframe thead th {\n",
       "        text-align: right;\n",
       "    }\n",
       "</style>\n",
       "<table border=\"1\" class=\"dataframe\">\n",
       "  <thead>\n",
       "    <tr style=\"text-align: right;\">\n",
       "      <th></th>\n",
       "      <th>category</th>\n",
       "      <th>word_counts</th>\n",
       "      <th>chars_count</th>\n",
       "    </tr>\n",
       "  </thead>\n",
       "  <tbody>\n",
       "    <tr>\n",
       "      <th>count</th>\n",
       "      <td>162968.000000</td>\n",
       "      <td>162968.000000</td>\n",
       "      <td>162968.000000</td>\n",
       "    </tr>\n",
       "    <tr>\n",
       "      <th>mean</th>\n",
       "      <td>0.225443</td>\n",
       "      <td>20.080826</td>\n",
       "      <td>124.179078</td>\n",
       "    </tr>\n",
       "    <tr>\n",
       "      <th>std</th>\n",
       "      <td>0.781282</td>\n",
       "      <td>10.879516</td>\n",
       "      <td>67.923552</td>\n",
       "    </tr>\n",
       "    <tr>\n",
       "      <th>min</th>\n",
       "      <td>-1.000000</td>\n",
       "      <td>1.000000</td>\n",
       "      <td>2.000000</td>\n",
       "    </tr>\n",
       "    <tr>\n",
       "      <th>25%</th>\n",
       "      <td>0.000000</td>\n",
       "      <td>11.000000</td>\n",
       "      <td>66.000000</td>\n",
       "    </tr>\n",
       "    <tr>\n",
       "      <th>50%</th>\n",
       "      <td>0.000000</td>\n",
       "      <td>18.000000</td>\n",
       "      <td>114.000000</td>\n",
       "    </tr>\n",
       "    <tr>\n",
       "      <th>75%</th>\n",
       "      <td>1.000000</td>\n",
       "      <td>29.000000</td>\n",
       "      <td>183.000000</td>\n",
       "    </tr>\n",
       "    <tr>\n",
       "      <th>max</th>\n",
       "      <td>1.000000</td>\n",
       "      <td>52.000000</td>\n",
       "      <td>274.000000</td>\n",
       "    </tr>\n",
       "  </tbody>\n",
       "</table>\n",
       "</div>"
      ],
      "text/plain": [
       "            category    word_counts    chars_count\n",
       "count  162968.000000  162968.000000  162968.000000\n",
       "mean        0.225443      20.080826     124.179078\n",
       "std         0.781282      10.879516      67.923552\n",
       "min        -1.000000       1.000000       2.000000\n",
       "25%         0.000000      11.000000      66.000000\n",
       "50%         0.000000      18.000000     114.000000\n",
       "75%         1.000000      29.000000     183.000000\n",
       "max         1.000000      52.000000     274.000000"
      ]
     },
     "execution_count": 36,
     "metadata": {},
     "output_type": "execute_result"
    }
   ],
   "source": [
    "df.describe()"
   ]
  },
  {
   "cell_type": "code",
   "execution_count": 24,
   "id": "b69b9151",
   "metadata": {
    "collapsed": true
   },
   "outputs": [
    {
     "data": {
      "image/png": "[encoded data removed]",
      "text/plain": [
       "<Figure size 720x432 with 1 Axes>"
      ]
     },
     "metadata": {},
     "output_type": "display_data"
    }
   ],
   "source": [
    "plt.rcParams[\"figure.figsize\"] = (10, 6)\n",
    "plt.rcParams[\"figure.facecolor\"] = 'white'\n",
    "plt.title('Distribution of number of tokens in tweets')\n",
    "sns.boxplot(x = df['word_counts'])\n",
    "plt.show()"
   ]
  },
  {
   "cell_type": "code",
   "execution_count": 25,
   "id": "a6b077c1",
   "metadata": {
    "collapsed": true
   },
   "outputs": [
    {
     "data": {
      "image/png": "[encoded data removed]",
      "text/plain": [
       "<Figure size 720x432 with 1 Axes>"
      ]
     },
     "metadata": {},
     "output_type": "display_data"
    }
   ],
   "source": [
    "plt.rcParams[\"figure.figsize\"] = (10, 6)\n",
    "plt.rcParams[\"figure.facecolor\"] = 'white'\n",
    "plt.title('Distribution of number of tokens in tweets')\n",
    "sns.boxplot(x = df['chars_count'])\n",
    "plt.show()"
   ]
  },
  {
   "cell_type": "code",
   "execution_count": 178,
   "id": "bae1682a",
   "metadata": {},
   "outputs": [],
   "source": [
    "texts_list, cat_list = list(df['clean_text']), list(df['category'])\n",
    "df_negative = df[df[\"category\"]==-1.0].copy()\n",
    "df_positive = df[df[\"category\"]==1.0].copy()\n",
    "df_neutral = df[df[\"category\"]==0.0].copy()"
   ]
  },
  {
   "cell_type": "code",
   "execution_count": 179,
   "id": "3452c891",
   "metadata": {},
   "outputs": [],
   "source": [
    "texts_len = [len(str(t).split()) for t in texts_list]"
   ]
  },
  {
   "cell_type": "code",
   "execution_count": 180,
   "id": "bca5ed5e",
   "metadata": {
    "collapsed": true
   },
   "outputs": [
    {
     "data": {
      "text/plain": [
       "162968"
      ]
     },
     "execution_count": 180,
     "metadata": {},
     "output_type": "execute_result"
    }
   ],
   "source": [
    "len(texts_list)"
   ]
  },
  {
   "cell_type": "code",
   "execution_count": 183,
   "id": "9378646b",
   "metadata": {},
   "outputs": [],
   "source": [
    "def tokenised_sen(text):\n",
    "    for i in range (len(text)):\n",
    "        new = Tokeniser.tokenize(text[i])\n",
    "        text[i] = \" \".join(new)"
   ]
  },
  {
   "cell_type": "code",
   "execution_count": 184,
   "id": "e245a1ad",
   "metadata": {},
   "outputs": [],
   "source": [
    "texts_tokenised = texts_list.copy()"
   ]
  },
  {
   "cell_type": "code",
   "execution_count": 185,
   "id": "4f5745c9",
   "metadata": {},
   "outputs": [],
   "source": [
    "tokenised_sen(texts_tokenised)"
   ]
  },
  {
   "cell_type": "code",
   "execution_count": null,
   "id": "7843ed39",
   "metadata": {},
   "outputs": [],
   "source": [
    "# EMOJI analysis"
   ]
  },
  {
   "cell_type": "code",
   "execution_count": 186,
   "id": "4bf5f371",
   "metadata": {},
   "outputs": [],
   "source": [
    "# import emot\n",
    "import emoji\n",
    "# emot_obj = emot.core.emot() "
   ]
  },
  {
   "cell_type": "code",
   "execution_count": 187,
   "id": "bde09e56",
   "metadata": {},
   "outputs": [],
   "source": [
    "def split_count(textm):\n",
    "    emoji_list = []\n",
    "    for i in textm:\n",
    "        dic = emoji.emoji_list(i)\n",
    "        if dic:\n",
    "            emoji_list += [j['emoji'] for j in dic]\n",
    "    return emoji_list"
   ]
  },
  {
   "cell_type": "code",
   "execution_count": 188,
   "id": "1aa70b91",
   "metadata": {},
   "outputs": [],
   "source": [
    "cat_emojis = {1.0: [], 0.0: [], -1.0: []}\n",
    "\n",
    "for i, text in enumerate(texts_tokenised):\n",
    "    emoji_count = split_count(text)\n",
    "    if emoji_count:\n",
    "        cat_emojis[df['category'].iloc[i]].extend(emoji_count)"
   ]
  },
  {
   "cell_type": "code",
   "execution_count": 189,
   "id": "fa303d90",
   "metadata": {
    "collapsed": true
   },
   "outputs": [
    {
     "name": "stdout",
     "output_type": "stream",
     "text": [
      "======================================================================================================================== \n",
      "\t\t\t\tTop emojis for 1.0 \n",
      " ['✌', '❤', '⚡', '♂', '☺', '♥', '♀', '▪', '‼', '☝', '➡', '✅', '♦', '✔', '✋', '✊', '☹', '⏩', '❓', '☕']\n"
     ]
    },
    {
     "data": {
      "image/png": "[encoded data removed]",
      "text/plain": [
       "<Figure size 720x360 with 1 Axes>"
      ]
     },
     "metadata": {},
     "output_type": "display_data"
    },
    {
     "name": "stdout",
     "output_type": "stream",
     "text": [
      "======================================================================================================================== \n",
      "\t\t\t\tTop emojis for 0.0 \n",
      " ['⚡', '✌', '❤', '♂', '☺', '♀', '✅', '☝', '⛔', '➡', '✊', '▪', '❣', '⏩', '‼', '⛳', '❓', '✈', '✋', '✔']\n"
     ]
    },
    {
     "data": {
      "image/png": "[encoded data removed]",
      "text/plain": [
       "<Figure size 720x360 with 1 Axes>"
      ]
     },
     "metadata": {},
     "output_type": "display_data"
    },
    {
     "name": "stdout",
     "output_type": "stream",
     "text": [
      "======================================================================================================================== \n",
      "\t\t\t\tTop emojis for -1.0 \n",
      " ['♂', '⚡', '♀', '✌', '☺', '❤', '▪', '✅', '✋', '⚠', '▶', '➡', '☝', '⛔', '❌', '❓', '‼', '❣', '⁉', '☹']\n"
     ]
    },
    {
     "data": {
      "image/png": "[encoded data removed]",
      "text/plain": [
       "<Figure size 720x360 with 1 Axes>"
      ]
     },
     "metadata": {},
     "output_type": "display_data"
    }
   ],
   "source": [
    "plt.rcParams[\"figure.figsize\"] = (10, 6)\n",
    "plt.rcParams[\"figure.facecolor\"] = 'white'\n",
    "\n",
    "for t, emote in cat_emojis.items():\n",
    "    plt.figure(figsize=(10, 5))\n",
    "    bar_info = pd.Series(emote).value_counts()[:20]\n",
    "    print('============'*10,  f'\\n\\t\\t\\t\\tTop emojis for {t} \\n', list(bar_info.index))\n",
    "    bar_info.index = [emoji.demojize(i, delimiters=(\"\", \"\")) for i in bar_info.index]\n",
    "    sns.barplot(x=bar_info.values, y=bar_info.index)\n",
    "    plt.title(f'{t}')\n",
    "    plt.show()"
   ]
  },
  {
   "cell_type": "code",
   "execution_count": null,
   "id": "5183d15e",
   "metadata": {},
   "outputs": [],
   "source": [
    "# 1. decode emoji\n",
    "# 2. remove num/mentions/url/punc\n",
    "# 0. lower\n",
    "# 3. expand contractions\n",
    "# # 4. translate\n",
    "# 5. spell check\n",
    "# 6. remove stopwords\n",
    "# 7. remove extra spaces\n",
    "# 8. Lemmatisation"
   ]
  },
  {
   "cell_type": "code",
   "execution_count": 190,
   "id": "b69e9b53",
   "metadata": {
    "collapsed": true
   },
   "outputs": [
    {
     "data": {
      "text/plain": [
       "True"
      ]
     },
     "execution_count": 190,
     "metadata": {},
     "output_type": "execute_result"
    }
   ],
   "source": [
    "sym_spell = SymSpell(max_dictionary_edit_distance=3)\n",
    "dictionary_path = pkg_resources.resource_filename(\n",
    "    \"symspellpy\", \"frequency_dictionary_en_82_765.txt\")\n",
    "sym_spell.load_dictionary(dictionary_path, term_index=0, count_index=1)"
   ]
  },
  {
   "cell_type": "code",
   "execution_count": 217,
   "id": "7c8950fa",
   "metadata": {},
   "outputs": [],
   "source": [
    "# stp_words = stopwords.words('english') + list(STOPWORDS)"
   ]
  },
  {
   "cell_type": "code",
   "execution_count": 220,
   "id": "515d4235",
   "metadata": {},
   "outputs": [],
   "source": [
    "stp_words = stopwords.words('english')"
   ]
  },
  {
   "cell_type": "code",
   "execution_count": 219,
   "id": "93b02c84",
   "metadata": {
    "collapsed": true
   },
   "outputs": [
    {
     "name": "stdout",
     "output_type": "stream",
     "text": [
      "['i', 'me', 'my', 'myself', 'we', 'our', 'ours', 'ourselves', 'you', \"you're\", \"you've\", \"you'll\", \"you'd\", 'your', 'yours', 'yourself', 'yourselves', 'he', 'him', 'his', 'himself', 'she', \"she's\", 'her', 'hers', 'herself', 'it', \"it's\", 'its', 'itself', 'they', 'them', 'their', 'theirs', 'themselves', 'what', 'which', 'who', 'whom', 'this', 'that', \"that'll\", 'these', 'those', 'am', 'is', 'are', 'was', 'were', 'be', 'been', 'being', 'have', 'has', 'had', 'having', 'do', 'does', 'did', 'doing', 'a', 'an', 'the', 'and', 'but', 'if', 'or', 'because', 'as', 'until', 'while', 'of', 'at', 'by', 'for', 'with', 'about', 'against', 'between', 'into', 'through', 'during', 'before', 'after', 'above', 'below', 'to', 'from', 'up', 'down', 'in', 'out', 'on', 'off', 'over', 'under', 'again', 'further', 'then', 'once', 'here', 'there', 'when', 'where', 'why', 'how', 'all', 'any', 'both', 'each', 'few', 'more', 'most', 'other', 'some', 'such', 'no', 'nor', 'not', 'only', 'own', 'same', 'so', 'than', 'too', 'very', 's', 't', 'can', 'will', 'just', 'don', \"don't\", 'should', \"should've\", 'now', 'd', 'll', 'm', 'o', 're', 've', 'y', 'ain', 'aren', \"aren't\", 'couldn', \"couldn't\", 'didn', \"didn't\", 'doesn', \"doesn't\", 'hadn', \"hadn't\", 'hasn', \"hasn't\", 'haven', \"haven't\", 'isn', \"isn't\", 'ma', 'mightn', \"mightn't\", 'mustn', \"mustn't\", 'needn', \"needn't\", 'shan', \"shan't\", 'shouldn', \"shouldn't\", 'wasn', \"wasn't\", 'weren', \"weren't\", 'won', \"won't\", 'wouldn', \"wouldn't\"]\n"
     ]
    }
   ],
   "source": [
    "stopWords_with_not = stp_words\n",
    "print(stopWords_with_not)\n",
    "# append \"shall\"\n",
    "\n",
    "# try remove not then model analysis \n",
    "# with not removing not then model analysis "
   ]
  },
  {
   "cell_type": "code",
   "execution_count": 82,
   "id": "79cff982",
   "metadata": {
    "collapsed": true
   },
   "outputs": [
    {
     "name": "stdout",
     "output_type": "stream",
     "text": [
      "['i', 'me', 'my', 'myself', 'we', 'our', 'ours', 'ourselves', 'you', \"you're\", \"you've\", \"you'll\", \"you'd\", 'your', 'yours', 'yourself', 'yourselves', 'he', 'him', 'his', 'himself', 'she', \"she's\", 'her', 'hers', 'herself', 'it', \"it's\", 'its', 'itself', 'they', 'them', 'their', 'theirs', 'themselves', 'what', 'which', 'who', 'whom', 'this', 'that', \"that'll\", 'these', 'those', 'am', 'is', 'are', 'was', 'were', 'be', 'been', 'being', 'have', 'has', 'had', 'having', 'do', 'does', 'did', 'doing', 'a', 'an', 'the', 'and', 'but', 'if', 'or', 'because', 'as', 'until', 'while', 'of', 'at', 'by', 'for', 'with', 'about', 'against', 'between', 'into', 'through', 'during', 'before', 'after', 'above', 'below', 'to', 'from', 'up', 'down', 'in', 'out', 'on', 'off', 'over', 'under', 'again', 'further', 'then', 'once', 'here', 'there', 'when', 'where', 'why', 'how', 'all', 'any', 'both', 'each', 'few', 'more', 'most', 'other', 'some', 'such', 'no', 'nor', 'not', 'only', 'own', 'same', 'so', 'than', 'too', 'very', 's', 't', 'can', 'will', 'just', 'don', \"don't\", 'should', \"should've\", 'now', 'd', 'll', 'm', 'o', 're', 've', 'y', 'ain', 'aren', \"aren't\", 'couldn', \"couldn't\", 'didn', \"didn't\", 'doesn', \"doesn't\", 'hadn', \"hadn't\", 'hasn', \"hasn't\", 'haven', \"haven't\", 'isn', \"isn't\", 'ma', 'mightn', \"mightn't\", 'mustn', \"mustn't\", 'needn', \"needn't\", 'shan', \"shan't\", 'shouldn', \"shouldn't\", 'wasn', \"wasn't\", 'weren', \"weren't\", 'won', \"won't\", 'wouldn', \"wouldn't\", 'shall']\n"
     ]
    }
   ],
   "source": [
    "stopWords_with_not.extend(['shall'])\n",
    "print(stopWords_with_not)"
   ]
  },
  {
   "cell_type": "code",
   "execution_count": 81,
   "id": "a42d4434",
   "metadata": {
    "collapsed": true
   },
   "outputs": [
    {
     "name": "stdout",
     "output_type": "stream",
     "text": [
      "['i', 'me', 'my', 'myself', 'we', 'our', 'ours', 'ourselves', 'you', \"you're\", \"you've\", \"you'll\", \"you'd\", 'your', 'yours', 'yourself', 'yourselves', 'he', 'him', 'his', 'himself', 'she', \"she's\", 'her', 'hers', 'herself', 'it', \"it's\", 'its', 'itself', 'they', 'them', 'their', 'theirs', 'themselves', 'what', 'which', 'who', 'whom', 'this', 'that', \"that'll\", 'these', 'those', 'am', 'is', 'are', 'was', 'were', 'be', 'been', 'being', 'have', 'has', 'had', 'having', 'do', 'does', 'did', 'doing', 'a', 'an', 'the', 'and', 'but', 'if', 'or', 'because', 'as', 'until', 'while', 'of', 'at', 'by', 'for', 'with', 'about', 'against', 'between', 'into', 'through', 'during', 'before', 'after', 'above', 'below', 'to', 'from', 'up', 'down', 'in', 'out', 'on', 'off', 'over', 'under', 'again', 'further', 'then', 'once', 'here', 'there', 'when', 'where', 'why', 'how', 'all', 'any', 'both', 'each', 'few', 'more', 'most', 'other', 'some', 'such', 'no', 'nor', 'only', 'own', 'same', 'so', 'than', 'too', 'very', 's', 't', 'can', 'will', 'just', 'don', \"don't\", 'should', \"should've\", 'now', 'd', 'll', 'm', 'o', 're', 've', 'y', 'ain', 'aren', \"aren't\", 'couldn', \"couldn't\", 'didn', \"didn't\", 'doesn', \"doesn't\", 'hadn', \"hadn't\", 'hasn', \"hasn't\", 'haven', \"haven't\", 'isn', \"isn't\", 'ma', 'mightn', \"mightn't\", 'mustn', \"mustn't\", 'needn', \"needn't\", 'shan', \"shan't\", 'shouldn', \"shouldn't\", 'wasn', \"wasn't\", 'weren', \"weren't\", 'won', \"won't\", 'wouldn', \"wouldn't\"]\n"
     ]
    }
   ],
   "source": [
    "stopWords_without_not = stp_words\n",
    "stopWords_without_not.remove('not')\n",
    "# stopWords_without_not.remove(\"not\")\n",
    "# stopWords_without_not.remove(\"cannot\")\n",
    "print(stopWords_without_not)"
   ]
  },
  {
   "cell_type": "code",
   "execution_count": 83,
   "id": "27c1aa5e",
   "metadata": {
    "collapsed": true
   },
   "outputs": [
    {
     "name": "stdout",
     "output_type": "stream",
     "text": [
      "['i', 'me', 'my', 'myself', 'we', 'our', 'ours', 'ourselves', 'you', \"you're\", \"you've\", \"you'll\", \"you'd\", 'your', 'yours', 'yourself', 'yourselves', 'he', 'him', 'his', 'himself', 'she', \"she's\", 'her', 'hers', 'herself', 'it', \"it's\", 'its', 'itself', 'they', 'them', 'their', 'theirs', 'themselves', 'what', 'which', 'who', 'whom', 'this', 'that', \"that'll\", 'these', 'those', 'am', 'is', 'are', 'was', 'were', 'be', 'been', 'being', 'have', 'has', 'had', 'having', 'do', 'does', 'did', 'doing', 'a', 'an', 'the', 'and', 'but', 'if', 'or', 'because', 'as', 'until', 'while', 'of', 'at', 'by', 'for', 'with', 'about', 'against', 'between', 'into', 'through', 'during', 'before', 'after', 'above', 'below', 'to', 'from', 'up', 'down', 'in', 'out', 'on', 'off', 'over', 'under', 'again', 'further', 'then', 'once', 'here', 'there', 'when', 'where', 'why', 'how', 'all', 'any', 'both', 'each', 'few', 'more', 'most', 'other', 'some', 'such', 'no', 'nor', 'only', 'own', 'same', 'so', 'than', 'too', 'very', 's', 't', 'can', 'will', 'just', 'don', \"don't\", 'should', \"should've\", 'now', 'd', 'll', 'm', 'o', 're', 've', 'y', 'ain', 'aren', \"aren't\", 'couldn', \"couldn't\", 'didn', \"didn't\", 'doesn', \"doesn't\", 'hadn', \"hadn't\", 'hasn', \"hasn't\", 'haven', \"haven't\", 'isn', \"isn't\", 'ma', 'mightn', \"mightn't\", 'mustn', \"mustn't\", 'needn', \"needn't\", 'shan', \"shan't\", 'shouldn', \"shouldn't\", 'wasn', \"wasn't\", 'weren', \"weren't\", 'won', \"won't\", 'wouldn', \"wouldn't\", 'shall']\n"
     ]
    }
   ],
   "source": [
    "stopWords_without_not.extend(['shall'])\n",
    "print(stopWords_without_not)"
   ]
  },
  {
   "cell_type": "code",
   "execution_count": 222,
   "id": "859b9e43",
   "metadata": {},
   "outputs": [],
   "source": [
    "negations_dic = {\"isn't\": 'is not', \"aren't\": 'are not', \"wasn't\": 'was not', \"weren't\": 'were not', \n",
    "                 \"needn't\": 'need not', \"haven't\": 'have not', \"hasn't\": 'has not', \"hadn't\": 'had not', \n",
    "                 \"won't\": 'will not', \"shan't\": 'shall not', \"wouldn't\": 'would not', \"don't\": 'do not', \n",
    "                 \"doesn't\": 'does not', \"didn't\": 'did not', \"can't\": 'can not', \"couldn't\": 'could not', \n",
    "                 \"shouldn't\": 'should not', \"mightn't\": 'might not', \"mustn't\": 'must not', 'isnt': 'is not', \n",
    "                 'arent': 'are not', 'wasnt': 'was not', 'werent': 'were not', 'neednt': 'need not', 'havent': \n",
    "                 'have not', 'hasnt': 'has not', 'hadnt': 'had not', 'wont': 'will not', 'shant': 'shall not', \n",
    "                 'wouldnt': 'would not', 'dont': 'do not', 'doesnt': 'does not', 'didnt': 'did not', \n",
    "                 'cant': 'can not', 'couldnt': 'could not', 'shouldnt': 'should not', 'mightnt': 'might not', \n",
    "                 'mustnt': 'must not'}\n",
    "\n",
    "contraction = {'cuz':'because', 'abt':'about'}\n",
    "\n",
    "def combine_tokens(tokenized): \n",
    "    non_tokenized = ' '.join([w for w in tokenized])\n",
    "    return non_tokenized\n",
    "\n",
    "def make_tokens(text):\n",
    "    return Tokeniser.tokenize(text)\n",
    "\n",
    "def get_wordnet_pos(word):\n",
    "    \"\"\"Map POS tag to first character lemmatize() accepts\"\"\"\n",
    "    tag = nltk.pos_tag([word])[0][1][0].upper()\n",
    "    tag_dict = {\"J\": wordnet.ADJ,\n",
    "                \"N\": wordnet.NOUN,\n",
    "                \"V\": wordnet.VERB,\n",
    "                \"R\": wordnet.ADV}\n",
    "\n",
    "    return tag_dict.get(tag, wordnet.NOUN)"
   ]
  },
  {
   "cell_type": "code",
   "execution_count": 227,
   "id": "12d43a40",
   "metadata": {},
   "outputs": [],
   "source": [
    "# DATA CLEANING\n",
    "# Remove mentions \n",
    "regex_mentions = r\"@[^\\s]+\"\n",
    "# Remove links -> URL\n",
    "regex_links = r\"((http://)[^ ]*|(https://)[^ ]*|( www\\.)[^ ]*)\"\n",
    "# Remove some special characters\n",
    "regex_special = r\"[^A-Z a-z ]+\"\n",
    "# 161335\n",
    "# Remove Email -> mail -> 0\n",
    "regex_email = r\"([a-zA-Z0-9+_-]+@[a-zA-Z0-9._-]+\\.[a-zA-Z0-9_-]+)\"\n",
    "# Remove repeated sequence of letters\n",
    "sequencePattern   = r\"(.)\\1\\1+\"\n",
    "seqReplacePattern = r\"\\1\"\n",
    "# remove html\n",
    "# from bs4 import BeautifulSoup\n",
    "# df['clean_text']=df['clean_text'].apply(lambda x: BeautifulSoup(x,'lxml').get_text())\n",
    "def decode_emojis(texts):\n",
    "#     print('Decoding emojis...')\n",
    "    return emoji.demojize(texts, language='en', delimiters = (\" \",\" \"))\n",
    "\n",
    "def regex_text(texts):\n",
    "    texts = re.sub(regex_email, \" \", texts.lower())\n",
    "    texts = re.sub(regex_mentions, \" \", texts.lower())\n",
    "    texts = re.sub(regex_links, \" \", texts.lower())\n",
    "    texts = re.sub(regex_special, \" \", texts.lower())\n",
    "    texts = re.sub(sequencePattern, seqReplacePattern, texts.lower())\n",
    "    return texts\n",
    "\n",
    "# function to remove accented characters\n",
    "def remove_acc_chars(text):\n",
    "    new_text = unicodedata.normalize('NFKD', text).encode('ascii', 'ignore').decode('utf-8', 'ignore')\n",
    "    return new_text\n",
    "\n",
    "def expand_contractions(text):\n",
    "    for key in contraction:\n",
    "        value=contraction[key]\n",
    "        text = text.replace(key,value)\n",
    "    new_text = contractions.fix(text)\n",
    "    return new_text\n",
    "\n",
    "def spellchecker(texts):\n",
    "    texts = sym_spell.word_segmentation(texts)\n",
    "    return texts.corrected_string\n",
    "\n",
    "def rem_stopwords(texts,stop_words):\n",
    "    tokenized = make_tokens(texts)\n",
    "    tokenized = [token for token in tokenized if token not in stop_words]\n",
    "    texts = combine_tokens(tokenized)\n",
    "    return texts\n",
    "\n",
    "def remove_double_space(texts):\n",
    "    pattern = re.compile(' +')\n",
    "    return re.sub(pattern, ' ', texts)\n",
    "\n",
    "def lemmatise(text):\n",
    "    tokenized = make_tokens(text)\n",
    "#     lemmatizer = WordNetLemmatizer()\n",
    "    tokenized = [lemmatizer.lemmatize(w, get_wordnet_pos(w)) for w in tokenized]\n",
    "    tokenized = [token for token in tokenized if token.isalpha() and len(token)>2]\n",
    "    return tokenized\n",
    "\n",
    "# def lang_to_eng(texts)"
   ]
  },
  {
   "cell_type": "code",
   "execution_count": 166,
   "id": "d6627fab",
   "metadata": {},
   "outputs": [],
   "source": [
    "df2 = df.copy()"
   ]
  },
  {
   "cell_type": "code",
   "execution_count": null,
   "id": "2504afbe",
   "metadata": {},
   "outputs": [],
   "source": []
  },
  {
   "cell_type": "code",
   "execution_count": null,
   "id": "35fee27b",
   "metadata": {},
   "outputs": [],
   "source": [
    "# 1. decode emoji\n",
    "# 2. remove num/mentions/url/punc\n",
    "# 0. lower\n",
    "# 3. expand contractions\n",
    "# # 4. translate\n",
    "# # 5. spell check\n",
    "# 6. remove stopwords\n",
    "# 7. remove extra spaces\n",
    "# 8. Lemmatisation"
   ]
  },
  {
   "cell_type": "code",
   "execution_count": 228,
   "id": "7225f830",
   "metadata": {},
   "outputs": [
    {
     "name": "stdout",
     "output_type": "stream",
     "text": [
      "Done\n"
     ]
    }
   ],
   "source": [
    "import time\n",
    "start_time = time.time()\n",
    "df2['post_clean'] = df2['clean_text'].apply(lambda x: decode_emojis(x))\n",
    "df2['post_clean'] = df2['post_clean'].apply(lambda x: x.lower())\n",
    "df2['post_clean'] = df2['post_clean'].apply(lambda x: regex_text(x))\n",
    "df2['post_clean'] = df2['post_clean'].apply(lambda x: remove_acc_chars(x))\n",
    "df2['post_clean'] = df2['post_clean'].apply(lambda x: expand_contractions(x))\n",
    "df2['post_clean'] = df2['post_clean'].apply(lambda x: remove_double_space(x))\n",
    "stop_time = time.time()\n",
    "print(\"Done\")\n",
    "# 1 min"
   ]
  },
  {
   "cell_type": "code",
   "execution_count": 229,
   "id": "38d4fb4d",
   "metadata": {},
   "outputs": [
    {
     "name": "stdout",
     "output_type": "stream",
     "text": [
      "Expansion of all tweets takes ~-6.243 seconds\n"
     ]
    }
   ],
   "source": [
    "print(f'Expansion of all tweets takes ~{round((start_time-stop_time), 3)} seconds')"
   ]
  },
  {
   "cell_type": "code",
   "execution_count": 232,
   "id": "280b7f6a",
   "metadata": {},
   "outputs": [
    {
     "name": "stdout",
     "output_type": "stream",
     "text": [
      "Done\n"
     ]
    }
   ],
   "source": [
    "start_time = time.time()\n",
    "# df2['post_clean'] = df2['post_clean'].apply(lambda x: spellchecker(x))\n",
    "df2['post_clean'] = df2['post_clean'].apply(lambda x: rem_stopwords(x, stopWords_without_not))\n",
    "df2['not_post_clean'] = df2['post_clean'].apply(lambda x: rem_stopwords(x, stopWords_with_not))\n",
    "\n",
    "df2['post_clean'] = df2['post_clean'].apply(lambda x: remove_double_space(x))\n",
    "df2['not_post_clean'] = df2['not_post_clean'].apply(lambda x: remove_double_space(x))\n",
    "\n",
    "df2['post_clean'] = df2['post_clean'].apply(lambda x: lemmatise(x))\n",
    "df2['post_clean'] = df2['post_clean'].apply(lambda x: combine_tokens(x))\n",
    "\n",
    "df2['not_post_clean'] = df2['not_post_clean'].apply(lambda x: lemmatise(x))\n",
    "df2['not_post_clean'] = df2['not_post_clean'].apply(lambda x: combine_tokens(x))\n",
    "stop_time = time.time()\n",
    "print(\"Done\")\n",
    "# 5 min"
   ]
  },
  {
   "cell_type": "code",
   "execution_count": 233,
   "id": "a7323953",
   "metadata": {},
   "outputs": [
    {
     "name": "stdout",
     "output_type": "stream",
     "text": [
      "Lemmatisation of all tweets takes ~-270.765 seconds\n"
     ]
    }
   ],
   "source": [
    "print(f'Lemmatisation of all tweets takes ~{round((start_time-stop_time), 3)} seconds')"
   ]
  },
  {
   "cell_type": "code",
   "execution_count": 234,
   "id": "da27ce37",
   "metadata": {},
   "outputs": [],
   "source": [
    "df2.to_csv('clean_tweet.csv', header=True, index=False)"
   ]
  },
  {
   "cell_type": "code",
   "execution_count": 235,
   "id": "32d766bf",
   "metadata": {
    "scrolled": true
   },
   "outputs": [
    {
     "data": {
      "text/html": [
       "<div>\n",
       "<style scoped>\n",
       "    .dataframe tbody tr th:only-of-type {\n",
       "        vertical-align: middle;\n",
       "    }\n",
       "\n",
       "    .dataframe tbody tr th {\n",
       "        vertical-align: top;\n",
       "    }\n",
       "\n",
       "    .dataframe thead th {\n",
       "        text-align: right;\n",
       "    }\n",
       "</style>\n",
       "<table border=\"1\" class=\"dataframe\">\n",
       "  <thead>\n",
       "    <tr style=\"text-align: right;\">\n",
       "      <th></th>\n",
       "      <th>clean_text</th>\n",
       "      <th>category</th>\n",
       "      <th>word_counts</th>\n",
       "      <th>chars_count</th>\n",
       "      <th>post_clean</th>\n",
       "      <th>not_post_clean</th>\n",
       "    </tr>\n",
       "  </thead>\n",
       "  <tbody>\n",
       "    <tr>\n",
       "      <th>0</th>\n",
       "      <td>when modi promised “minimum government maximum...</td>\n",
       "      <td>-1.0</td>\n",
       "      <td>33</td>\n",
       "      <td>210</td>\n",
       "      <td>modi promise minimum government maximum govern...</td>\n",
       "      <td>modi promise minimum government maximum govern...</td>\n",
       "    </tr>\n",
       "    <tr>\n",
       "      <th>1</th>\n",
       "      <td>talk all the nonsense and continue all the dra...</td>\n",
       "      <td>0.0</td>\n",
       "      <td>13</td>\n",
       "      <td>68</td>\n",
       "      <td>talk nonsense continue drama vote modi</td>\n",
       "      <td>talk nonsense continue drama vote modi</td>\n",
       "    </tr>\n",
       "    <tr>\n",
       "      <th>2</th>\n",
       "      <td>what did just say vote for modi  welcome bjp t...</td>\n",
       "      <td>1.0</td>\n",
       "      <td>22</td>\n",
       "      <td>117</td>\n",
       "      <td>say vote modi welcome bjp told rahul main camp...</td>\n",
       "      <td>say vote modi welcome bjp told rahul main camp...</td>\n",
       "    </tr>\n",
       "    <tr>\n",
       "      <th>3</th>\n",
       "      <td>asking his supporters prefix chowkidar their n...</td>\n",
       "      <td>1.0</td>\n",
       "      <td>34</td>\n",
       "      <td>212</td>\n",
       "      <td>ask supporter prefix chowkidar name modi great...</td>\n",
       "      <td>ask supporter prefix chowkidar name modi great...</td>\n",
       "    </tr>\n",
       "    <tr>\n",
       "      <th>4</th>\n",
       "      <td>answer who among these the most powerful world...</td>\n",
       "      <td>1.0</td>\n",
       "      <td>14</td>\n",
       "      <td>81</td>\n",
       "      <td>answer among powerful world leader today trump...</td>\n",
       "      <td>answer among powerful world leader today trump...</td>\n",
       "    </tr>\n",
       "    <tr>\n",
       "      <th>...</th>\n",
       "      <td>...</td>\n",
       "      <td>...</td>\n",
       "      <td>...</td>\n",
       "      <td>...</td>\n",
       "      <td>...</td>\n",
       "      <td>...</td>\n",
       "    </tr>\n",
       "    <tr>\n",
       "      <th>162963</th>\n",
       "      <td>why these 456 crores paid neerav modi not reco...</td>\n",
       "      <td>-1.0</td>\n",
       "      <td>18</td>\n",
       "      <td>108</td>\n",
       "      <td>crore paid neerav modi not recover congress le...</td>\n",
       "      <td>crore paid neerav modi recover congress leader...</td>\n",
       "    </tr>\n",
       "    <tr>\n",
       "      <th>162964</th>\n",
       "      <td>dear rss terrorist payal gawar what about modi...</td>\n",
       "      <td>-1.0</td>\n",
       "      <td>36</td>\n",
       "      <td>248</td>\n",
       "      <td>dear terrorist payal gawar modi kill plus musl...</td>\n",
       "      <td>dear terrorist payal gawar modi kill plus musl...</td>\n",
       "    </tr>\n",
       "    <tr>\n",
       "      <th>162965</th>\n",
       "      <td>did you cover her interaction forum where she ...</td>\n",
       "      <td>0.0</td>\n",
       "      <td>9</td>\n",
       "      <td>51</td>\n",
       "      <td>cover interaction forum left</td>\n",
       "      <td>cover interaction forum left</td>\n",
       "    </tr>\n",
       "    <tr>\n",
       "      <th>162966</th>\n",
       "      <td>there big project came into india modi dream p...</td>\n",
       "      <td>0.0</td>\n",
       "      <td>13</td>\n",
       "      <td>77</td>\n",
       "      <td>big project come india modi dream project not ...</td>\n",
       "      <td>big project come india modi dream project happ...</td>\n",
       "    </tr>\n",
       "    <tr>\n",
       "      <th>162967</th>\n",
       "      <td>have you ever listen about like gurukul where ...</td>\n",
       "      <td>1.0</td>\n",
       "      <td>34</td>\n",
       "      <td>216</td>\n",
       "      <td>ever listen like gurukul discipline maintain e...</td>\n",
       "      <td>ever listen like gurukul discipline maintain e...</td>\n",
       "    </tr>\n",
       "  </tbody>\n",
       "</table>\n",
       "<p>162968 rows × 6 columns</p>\n",
       "</div>"
      ],
      "text/plain": [
       "                                               clean_text  category  \\\n",
       "0       when modi promised “minimum government maximum...      -1.0   \n",
       "1       talk all the nonsense and continue all the dra...       0.0   \n",
       "2       what did just say vote for modi  welcome bjp t...       1.0   \n",
       "3       asking his supporters prefix chowkidar their n...       1.0   \n",
       "4       answer who among these the most powerful world...       1.0   \n",
       "...                                                   ...       ...   \n",
       "162963  why these 456 crores paid neerav modi not reco...      -1.0   \n",
       "162964  dear rss terrorist payal gawar what about modi...      -1.0   \n",
       "162965  did you cover her interaction forum where she ...       0.0   \n",
       "162966  there big project came into india modi dream p...       0.0   \n",
       "162967  have you ever listen about like gurukul where ...       1.0   \n",
       "\n",
       "        word_counts  chars_count  \\\n",
       "0                33          210   \n",
       "1                13           68   \n",
       "2                22          117   \n",
       "3                34          212   \n",
       "4                14           81   \n",
       "...             ...          ...   \n",
       "162963           18          108   \n",
       "162964           36          248   \n",
       "162965            9           51   \n",
       "162966           13           77   \n",
       "162967           34          216   \n",
       "\n",
       "                                               post_clean  \\\n",
       "0       modi promise minimum government maximum govern...   \n",
       "1                  talk nonsense continue drama vote modi   \n",
       "2       say vote modi welcome bjp told rahul main camp...   \n",
       "3       ask supporter prefix chowkidar name modi great...   \n",
       "4       answer among powerful world leader today trump...   \n",
       "...                                                   ...   \n",
       "162963  crore paid neerav modi not recover congress le...   \n",
       "162964  dear terrorist payal gawar modi kill plus musl...   \n",
       "162965                       cover interaction forum left   \n",
       "162966  big project come india modi dream project not ...   \n",
       "162967  ever listen like gurukul discipline maintain e...   \n",
       "\n",
       "                                           not_post_clean  \n",
       "0       modi promise minimum government maximum govern...  \n",
       "1                  talk nonsense continue drama vote modi  \n",
       "2       say vote modi welcome bjp told rahul main camp...  \n",
       "3       ask supporter prefix chowkidar name modi great...  \n",
       "4       answer among powerful world leader today trump...  \n",
       "...                                                   ...  \n",
       "162963  crore paid neerav modi recover congress leader...  \n",
       "162964  dear terrorist payal gawar modi kill plus musl...  \n",
       "162965                       cover interaction forum left  \n",
       "162966  big project come india modi dream project happ...  \n",
       "162967  ever listen like gurukul discipline maintain e...  \n",
       "\n",
       "[162968 rows x 6 columns]"
      ]
     },
     "execution_count": 235,
     "metadata": {},
     "output_type": "execute_result"
    }
   ],
   "source": [
    "df = pd.read_csv('./clean_tweet.csv')\n",
    "df"
   ]
  },
  {
   "cell_type": "code",
   "execution_count": 243,
   "id": "6b3d92d6",
   "metadata": {},
   "outputs": [
    {
     "data": {
      "text/plain": [
       "'award wapsi gang never returned any prize money modi '"
      ]
     },
     "execution_count": 243,
     "metadata": {},
     "output_type": "execute_result"
    }
   ],
   "source": [
    "df['clean_text'][156571]"
   ]
  },
  {
   "cell_type": "code",
   "execution_count": 241,
   "id": "fd4fba35",
   "metadata": {},
   "outputs": [
    {
     "data": {
      "text/plain": [
       "'award wapsi gang never return prize money modi'"
      ]
     },
     "execution_count": 241,
     "metadata": {},
     "output_type": "execute_result"
    }
   ],
   "source": [
    "df['post_clean'][162800]"
   ]
  },
  {
   "cell_type": "code",
   "execution_count": 171,
   "id": "1fce05c0",
   "metadata": {},
   "outputs": [
    {
     "data": {
      "text/plain": [
       "'author encyclopedia sitemodi sharif befriend pak army frowns'"
      ]
     },
     "execution_count": 171,
     "metadata": {},
     "output_type": "execute_result"
    }
   ],
   "source": [
    "df['clean_text'][3521]"
   ]
  },
  {
   "cell_type": "code",
   "execution_count": 38,
   "id": "1526aace",
   "metadata": {},
   "outputs": [
    {
     "data": {
      "text/plain": [
       "0.0"
      ]
     },
     "execution_count": 38,
     "metadata": {},
     "output_type": "execute_result"
    }
   ],
   "source": [
    "cat_list[3521]"
   ]
  },
  {
   "cell_type": "code",
   "execution_count": 179,
   "id": "a0c5b71a",
   "metadata": {},
   "outputs": [
    {
     "data": {
      "text/plain": [
       "'want modi sir prime minister for long time now proved that including him too many people are against modi sir his thinking proved that thinking only for himself and his benefit'"
      ]
     },
     "execution_count": 179,
     "metadata": {},
     "output_type": "execute_result"
    }
   ],
   "source": [
    "df['clean_text'][353]"
   ]
  },
  {
   "cell_type": "code",
   "execution_count": null,
   "id": "c34651eb",
   "metadata": {},
   "outputs": [],
   "source": []
  }
 ],
 "metadata": {
  "kernelspec": {
   "display_name": "Python 3 (ipykernel)",
   "language": "python",
   "name": "python3"
  },
  "language_info": {
   "codemirror_mode": {
    "name": "ipython",
    "version": 3
   },
   "file_extension": ".py",
   "mimetype": "text/x-python",
   "name": "python",
   "nbconvert_exporter": "python",
   "pygments_lexer": "ipython3",
   "version": "3.10.0"
  }
 },
 "nbformat": 4,
 "nbformat_minor": 5
}
